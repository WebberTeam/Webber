{
 "cells": [
  {
   "cell_type": "code",
   "execution_count": null,
   "metadata": {},
   "outputs": [],
   "source": [
    "import webber\n",
    "from networkx import DiGraph\n",
    "from dag_latency import first, second, third, fourth\n",
    "from dag_complex import adder, muxer, print_and_wait"
   ]
  },
  {
   "cell_type": "code",
   "execution_count": null,
   "metadata": {},
   "outputs": [],
   "source": [
    "dag = webber.DAG()\n",
    "dag.add_node(first)\n",
    "dag.add_node(second)\n",
    "dag.add_node(third)\n",
    "dag.add_node(fourth)\n",
    "dag.execute()"
   ]
  },
  {
   "cell_type": "code",
   "execution_count": null,
   "metadata": {},
   "outputs": [],
   "source": [
    "G = DiGraph([\n",
    "    (first, second),\n",
    "    (second, third),\n",
    "    (third, fourth)\n",
    "])\n",
    "dag = webber.DAG(G)\n",
    "dag.execute()"
   ]
  },
  {
   "cell_type": "code",
   "execution_count": null,
   "metadata": {},
   "outputs": [],
   "source": [
    "dag.visualize()"
   ]
  },
  {
   "cell_type": "code",
   "execution_count": null,
   "metadata": {},
   "outputs": [],
   "source": [
    "dag = webber.DAG()\n",
    "\n",
    "ref_first, ref_sec = dag.add_edge(first, second)\n",
    "_, ref_third = dag.add_edge(ref_sec, third)\n",
    "_, ref_fourth = dag.add_edge(ref_third, fourth)\n",
    "\n",
    "dag.execute()"
   ]
  },
  {
   "cell_type": "code",
   "execution_count": null,
   "metadata": {},
   "outputs": [],
   "source": [
    "dag = webber.DAG()\n",
    "\n",
    "one_foo   = dag.add_node(print_and_wait, \"Hello!\", \"This should be first!\", sleep_time=1.0)\n",
    "three_foo = dag.add_node(print_and_wait, \"This is should be second -- or third?!    :-)\",\"    Function B\", end=\"\\n\\n\", sleep_time=0.001)\n",
    "two_foo   = dag.add_node(print_and_wait, \"This is should be second -- or third?!    :-)\",\"    Function A\", end=\"\\n\", sleep_time=0.1)\n",
    "four_foo  = dag.add_node(print_and_wait, \"I'll show up last.\")\n",
    "\n",
    "dag.add_edge(one_foo, two_foo)\n",
    "dag.add_edge(one_foo, three_foo)\n",
    "dag.add_edge(three_foo, four_foo)\n",
    "\n",
    "dag.execute()"
   ]
  },
  {
   "cell_type": "code",
   "execution_count": null,
   "metadata": {},
   "outputs": [],
   "source": [
    "G = DiGraph([\n",
    "    (first, second),\n",
    "    (second, third),\n",
    "    (third, fourth)\n",
    "])\n",
    "dag = webber.DAG(G)\n",
    "dag.visualize()"
   ]
  },
  {
   "cell_type": "code",
   "execution_count": null,
   "metadata": {},
   "outputs": [],
   "source": [
    "dag.visualize()"
   ]
  }
 ],
 "metadata": {
  "kernelspec": {
   "display_name": "Python 3.9.11 64-bit",
   "language": "python",
   "name": "python3"
  },
  "language_info": {
   "codemirror_mode": {
    "name": "ipython",
    "version": 3
   },
   "file_extension": ".py",
   "mimetype": "text/x-python",
   "name": "python",
   "nbconvert_exporter": "python",
   "pygments_lexer": "ipython3",
   "version": "3.9.11"
  },
  "orig_nbformat": 4,
  "vscode": {
   "interpreter": {
    "hash": "916dbcbb3f70747c44a77c7bcd40155683ae19c65e1c03b4aa3499c5328201f1"
   }
  }
 },
 "nbformat": 4,
 "nbformat_minor": 2
}
