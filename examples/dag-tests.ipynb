{
 "cells": [
  {
   "cell_type": "code",
   "execution_count": 2,
   "metadata": {},
   "outputs": [],
   "source": [
    "import webber\n",
    "from networkx import DiGraph\n",
    "from dag_latency import first, second, third, fourth\n",
    "from dag_complex import adder, muxer, print_and_wait"
   ]
  },
  {
   "cell_type": "code",
   "execution_count": 3,
   "metadata": {},
   "outputs": [
    {
     "name": "stdout",
     "output_type": "stream",
     "text": [
      "2024-01-22 16:01:05,873           third: 3\n",
      "2024-01-22 16:01:05,876          fourth: 4\n",
      "2024-01-22 16:01:05,879          second: 2\n",
      "2024-01-22 16:01:05,882           first: 1\n"
     ]
    }
   ],
   "source": [
    "dag = webber.DAG()\n",
    "dag.add_node(first)\n",
    "dag.add_node(second)\n",
    "dag.add_node(third)\n",
    "dag.add_node(fourth)\n",
    "dag.execute()"
   ]
  },
  {
   "cell_type": "code",
   "execution_count": 4,
   "metadata": {},
   "outputs": [
    {
     "name": "stdout",
     "output_type": "stream",
     "text": [
      "2024-01-22 16:01:07,860           first: 1\n",
      "2024-01-22 16:01:08,954          second: 2\n",
      "2024-01-22 16:01:10,081           third: 3\n",
      "2024-01-22 16:01:11,202          fourth: 4\n"
     ]
    }
   ],
   "source": [
    "G = DiGraph([\n",
    "    (first, second),\n",
    "    (second, third),\n",
    "    (third, fourth)\n",
    "])\n",
    "dag = webber.DAG(G)\n",
    "dag.execute()"
   ]
  },
  {
   "cell_type": "code",
   "execution_count": 6,
   "metadata": {},
   "outputs": [
    {
     "data": {
      "image/png": "[encoded data removed]",
      "text/plain": [
       "<Figure size 640x480 with 1 Axes>"
      ]
     },
     "metadata": {},
     "output_type": "display_data"
    }
   ],
   "source": [
    "dag.visualize()"
   ]
  },
  {
   "cell_type": "code",
   "execution_count": 7,
   "metadata": {},
   "outputs": [
    {
     "name": "stdout",
     "output_type": "stream",
     "text": [
      "2024-01-22 16:01:54,466           first: 1\n",
      "2024-01-22 16:01:55,526          second: 2\n",
      "2024-01-22 16:01:56,701           third: 3\n",
      "2024-01-22 16:01:57,766          fourth: 4\n"
     ]
    }
   ],
   "source": [
    "dag = webber.DAG()\n",
    "\n",
    "ref_first, ref_sec = dag.add_edge(first, second)\n",
    "_, ref_third = dag.add_edge(ref_sec, third)\n",
    "_, ref_fourth = dag.add_edge(ref_third, fourth)\n",
    "\n",
    "dag.execute()"
   ]
  },
  {
   "cell_type": "code",
   "execution_count": 8,
   "metadata": {},
   "outputs": [
    {
     "name": "stdout",
     "output_type": "stream",
     "text": [
      "2024-01-22 16:02:03,539  print_and_wait: Hello!\n",
      "2024-01-22 16:02:03,607  print_and_wait: This should be first!\n",
      "2024-01-22 16:02:04,684  print_and_wait: This is should be second -- or third?!    :-)\n",
      "2024-01-22 16:02:04,684  print_and_wait: This is should be second -- or third?!    :-)\n",
      "2024-01-22 16:02:04,700  print_and_wait:     Function B\n",
      "2024-01-22 16:02:04,764  print_and_wait:     Function A\n",
      "2024-01-22 16:02:04,795  print_and_wait: I'll show up last.\n"
     ]
    }
   ],
   "source": [
    "dag = webber.DAG()\n",
    "\n",
    "one_foo   = dag.add_node(print_and_wait, \"Hello!\", \"This should be first!\", sleep_time=1.0)\n",
    "three_foo = dag.add_node(print_and_wait, \"This is should be second -- or third?!    :-)\",\"    Function B\", end=\"\\n\\n\", sleep_time=0.001)\n",
    "two_foo   = dag.add_node(print_and_wait, \"This is should be second -- or third?!    :-)\",\"    Function A\", end=\"\\n\", sleep_time=0.1)\n",
    "four_foo  = dag.add_node(print_and_wait, \"I'll show up last.\")\n",
    "\n",
    "dag.add_edge(one_foo, two_foo)\n",
    "dag.add_edge(one_foo, three_foo)\n",
    "dag.add_edge(three_foo, four_foo)\n",
    "\n",
    "dag.execute()"
   ]
  },
  {
   "cell_type": "code",
   "execution_count": 9,
   "metadata": {},
   "outputs": [
    {
     "name": "stdout",
     "output_type": "stream",
     "text": [
      "Serving visualization...\n",
      "\n",
      " * Serving Flask app 'webber.viz'\n",
      " * Debug mode: off\n"
     ]
    },
    {
     "name": "stderr",
     "output_type": "stream",
     "text": [
      "WARNING: This is a development server. Do not use it in a production deployment. Use a production WSGI server instead.\n",
      " * Running on http://127.0.0.1:5000\n",
      "Press CTRL+C to quit\n",
      "127.0.0.1 - - [22/Jan/2024 16:02:32] \"GET / HTTP/1.1\" 200 -\n"
     ]
    },
    {
     "name": "stdout",
     "output_type": "stream",
     "text": [
      "\n",
      "Visualization closed.\n"
     ]
    }
   ],
   "source": [
    "G = DiGraph([\n",
    "    (first, second),\n",
    "    (second, third),\n",
    "    (third, fourth)\n",
    "])\n",
    "dag = webber.DAG(G)\n",
    "dag.visualize()"
   ]
  },
  {
   "cell_type": "code",
   "execution_count": null,
   "metadata": {},
   "outputs": [],
   "source": [
    "dag.visualize(vis_type='plt')"
   ]
  }
 ],
 "metadata": {
  "kernelspec": {
   "display_name": "Python 3.9.11 64-bit",
   "language": "python",
   "name": "python3"
  },
  "language_info": {
   "codemirror_mode": {
    "name": "ipython",
    "version": 3
   },
   "file_extension": ".py",
   "mimetype": "text/x-python",
   "name": "python",
   "nbconvert_exporter": "python",
   "pygments_lexer": "ipython3",
   "version": "3.12.1"
  },
  "orig_nbformat": 4,
  "vscode": {
   "interpreter": {
    "hash": "916dbcbb3f70747c44a77c7bcd40155683ae19c65e1c03b4aa3499c5328201f1"
   }
  }
 },
 "nbformat": 4,
 "nbformat_minor": 2
}
