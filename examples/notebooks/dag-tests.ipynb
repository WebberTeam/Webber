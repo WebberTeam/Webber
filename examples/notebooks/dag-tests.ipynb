{
 "cells": [
  {
   "cell_type": "code",
   "execution_count": 7,
   "metadata": {},
   "outputs": [],
   "source": [
    "import webber\n",
    "\n",
    "from time import sleep\n",
    "from typing import Union\n",
    "from networkx import DiGraph"
   ]
  },
  {
   "cell_type": "code",
   "execution_count": 8,
   "metadata": {},
   "outputs": [],
   "source": [
    "def print_and_wait(*values, sep=' ', end='\\n', sleep_time: Union[int, float] = 0.0):\n",
    "    print(*values, sep=sep, end=end)\n",
    "    sleep(sleep_time)"
   ]
  },
  {
   "cell_type": "code",
   "execution_count": 9,
   "metadata": {},
   "outputs": [],
   "source": [
    "def first():\n",
    "    print(\"1\")\n",
    "    sleep(1)\n",
    "\n",
    "def second():\n",
    "    print(\"2\")\n",
    "    sleep(1)\n",
    "\n",
    "def third():\n",
    "    print(\"3\")\n",
    "    sleep(1)\n",
    "\n",
    "def fourth():\n",
    "    print(\"4\")\n",
    "    sleep(1)"
   ]
  },
  {
   "cell_type": "code",
   "execution_count": 10,
   "metadata": {},
   "outputs": [
    {
     "name": "stdout",
     "output_type": "stream",
     "text": [
      "2024-11-10 17:18:12,688          second: 2\n",
      "2024-11-10 17:18:12,688          fourth: 4\n",
      "2024-11-10 17:18:12,695           third: 3\n",
      "2024-11-10 17:18:12,696           first: 1\n"
     ]
    }
   ],
   "source": [
    "dag = webber.DAG()\n",
    "dag.add_node(first)\n",
    "dag.add_node(second)\n",
    "dag.add_node(third)\n",
    "dag.add_node(fourth)\n",
    "dag.execute()"
   ]
  },
  {
   "cell_type": "code",
   "execution_count": 11,
   "metadata": {},
   "outputs": [
    {
     "data": {
      "text/plain": [
       "<netgraph._main.InteractiveGraph at 0x2234c463830>"
      ]
     },
     "execution_count": 11,
     "metadata": {},
     "output_type": "execute_result"
    },
    {
     "data": {
      "image/png": "[encoded data removed]",
      "text/plain": [
       "<Figure size 640x480 with 1 Axes>"
      ]
     },
     "metadata": {},
     "output_type": "display_data"
    }
   ],
   "source": [
    "dag.visualize()"
   ]
  },
  {
   "cell_type": "code",
   "execution_count": 12,
   "metadata": {},
   "outputs": [
    {
     "name": "stdout",
     "output_type": "stream",
     "text": [
      "2024-11-10 17:18:16,675           first: 1\n",
      "2024-11-10 17:18:17,829          second: 2\n",
      "2024-11-10 17:18:18,914           third: 3\n",
      "2024-11-10 17:18:20,002          fourth: 4\n"
     ]
    }
   ],
   "source": [
    "dag = webber.DAG()\n",
    "\n",
    "ref_first, ref_sec = dag.add_edge(first, second)\n",
    "_, ref_third = dag.add_edge(ref_sec, third)\n",
    "_, ref_fourth = dag.add_edge(ref_third, fourth)\n",
    "\n",
    "dag.execute()"
   ]
  },
  {
   "cell_type": "code",
   "execution_count": 13,
   "metadata": {},
   "outputs": [
    {
     "name": "stdout",
     "output_type": "stream",
     "text": [
      "2024-11-10 17:18:21,527  print_and_wait: Hello!\n",
      "2024-11-10 17:18:21,627  print_and_wait: This should be first!\n",
      "2024-11-10 17:18:22,681  print_and_wait: This is should be second -- or third?!    :-)\n",
      "2024-11-10 17:18:22,681  print_and_wait: This is should be second -- or third?!    :-)\n",
      "2024-11-10 17:18:22,746  print_and_wait:     Function B\n",
      "2024-11-10 17:18:22,763  print_and_wait:     Function A\n",
      "2024-11-10 17:18:22,992  print_and_wait: I'll show up last.\n"
     ]
    }
   ],
   "source": [
    "dag = webber.DAG()\n",
    "\n",
    "one_foo   = dag.add_node(print_and_wait, \"Hello!\", \"This should be first!\", sleep_time=1.0)\n",
    "three_foo = dag.add_node(print_and_wait, \"This is should be second -- or third?!    :-)\",\"    Function B\", end=\"\\n\\n\", sleep_time=0.001)\n",
    "two_foo   = dag.add_node(print_and_wait, \"This is should be second -- or third?!    :-)\",\"    Function A\", end=\"\\n\", sleep_time=0.1)\n",
    "four_foo  = dag.add_node(print_and_wait, \"I'll show up last.\")\n",
    "\n",
    "dag.add_edge(one_foo, two_foo)\n",
    "dag.add_edge(one_foo, three_foo)\n",
    "dag.add_edge(three_foo, four_foo)\n",
    "\n",
    "dag.execute()"
   ]
  },
  {
   "cell_type": "code",
   "execution_count": null,
   "metadata": {},
   "outputs": [],
   "source": [
    "G = DiGraph([\n",
    "    (first, second),\n",
    "    (second, third),\n",
    "    (third, fourth)\n",
    "])\n",
    "dag = webber.DAG(G)\n",
    "dag.visualize()"
   ]
  },
  {
   "cell_type": "code",
   "execution_count": null,
   "metadata": {},
   "outputs": [],
   "source": [
    "dag.visualize('plt')"
   ]
  }
 ],
 "metadata": {
  "kernelspec": {
   "display_name": "Python 3.9.11 64-bit",
   "language": "python",
   "name": "python3"
  },
  "language_info": {
   "codemirror_mode": {
    "name": "ipython",
    "version": 3
   },
   "file_extension": ".py",
   "mimetype": "text/x-python",
   "name": "python",
   "nbconvert_exporter": "python",
   "pygments_lexer": "ipython3",
   "version": "3.12.4"
  },
  "orig_nbformat": 4,
  "vscode": {
   "interpreter": {
    "hash": "916dbcbb3f70747c44a77c7bcd40155683ae19c65e1c03b4aa3499c5328201f1"
   }
  }
 },
 "nbformat": 4,
 "nbformat_minor": 2
}
