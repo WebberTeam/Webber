{
 "cells": [
  {
   "cell_type": "code",
   "execution_count": 6,
   "metadata": {},
   "outputs": [
    {
     "ename": "ModuleNotFoundError",
     "evalue": "No module named 'examples'",
     "output_type": "error",
     "traceback": [
      "\u001b[1;31m---------------------------------------------------------------------------\u001b[0m",
      "\u001b[1;31mModuleNotFoundError\u001b[0m                       Traceback (most recent call last)",
      "Cell \u001b[1;32mIn[6], line 3\u001b[0m\n\u001b[0;32m      1\u001b[0m \u001b[38;5;28;01mimport\u001b[39;00m \u001b[38;5;21;01mwebber\u001b[39;00m\n\u001b[0;32m      2\u001b[0m \u001b[38;5;28;01mfrom\u001b[39;00m \u001b[38;5;21;01mnetworkx\u001b[39;00m \u001b[38;5;28;01mimport\u001b[39;00m DiGraph\n\u001b[1;32m----> 3\u001b[0m \u001b[38;5;28;01mfrom\u001b[39;00m \u001b[38;5;21;01mexamples\u001b[39;00m\u001b[38;5;21;01m.\u001b[39;00m\u001b[38;5;21;01mcode\u001b[39;00m\u001b[38;5;21;01m.\u001b[39;00m\u001b[38;5;21;01mdag_latency\u001b[39;00m \u001b[38;5;28;01mimport\u001b[39;00m first, second, third, fourth\n\u001b[0;32m      4\u001b[0m \u001b[38;5;28;01mfrom\u001b[39;00m \u001b[38;5;21;01mexamples\u001b[39;00m\u001b[38;5;21;01m.\u001b[39;00m\u001b[38;5;21;01mcode\u001b[39;00m\u001b[38;5;21;01m.\u001b[39;00m\u001b[38;5;21;01mdag_complex\u001b[39;00m \u001b[38;5;28;01mimport\u001b[39;00m print_and_wait\n",
      "\u001b[1;31mModuleNotFoundError\u001b[0m: No module named 'examples'"
     ]
    }
   ],
   "source": [
    "import webber\n",
    "\n",
    "from time import sleep\n",
    "from typing import Union\n",
    "from networkx import DiGraph"
   ]
  },
  {
   "cell_type": "code",
   "execution_count": null,
   "metadata": {},
   "outputs": [],
   "source": [
    "def print_and_wait(*values, sep=' ', end='\\n', sleep_time: Union[int, float] = 0.0):\n",
    "    print(*values, sep=sep, end=end)\n",
    "    sleep(sleep_time)"
   ]
  },
  {
   "cell_type": "code",
   "execution_count": null,
   "metadata": {},
   "outputs": [],
   "source": [
    "\n",
    "def first():\n",
    "    print(\"1\")\n",
    "    sleep(1)\n",
    "\n",
    "def second():\n",
    "    print(\"2\")\n",
    "    sleep(1)\n",
    "\n",
    "def third():\n",
    "    print(\"3\")\n",
    "    sleep(1)\n",
    "\n",
    "def fourth():\n",
    "    print(\"4\")\n",
    "    sleep(1)"
   ]
  },
  {
   "cell_type": "code",
   "execution_count": null,
   "metadata": {},
   "outputs": [],
   "source": [
    "dag = webber.DAG()\n",
    "dag.add_node(first)\n",
    "dag.add_node(second)\n",
    "dag.add_node(third)\n",
    "dag.add_node(fourth)\n",
    "dag.execute()"
   ]
  },
  {
   "cell_type": "code",
   "execution_count": null,
   "metadata": {},
   "outputs": [],
   "source": [
    "dag.visualize()"
   ]
  },
  {
   "cell_type": "code",
   "execution_count": null,
   "metadata": {},
   "outputs": [],
   "source": [
    "dag = webber.DAG()\n",
    "\n",
    "ref_first, ref_sec = dag.add_edge(first, second)\n",
    "_, ref_third = dag.add_edge(ref_sec, third)\n",
    "_, ref_fourth = dag.add_edge(ref_third, fourth)\n",
    "\n",
    "dag.execute()"
   ]
  },
  {
   "cell_type": "code",
   "execution_count": null,
   "metadata": {},
   "outputs": [],
   "source": [
    "dag = webber.DAG()\n",
    "\n",
    "one_foo   = dag.add_node(print_and_wait, \"Hello!\", \"This should be first!\", sleep_time=1.0)\n",
    "three_foo = dag.add_node(print_and_wait, \"This is should be second -- or third?!    :-)\",\"    Function B\", end=\"\\n\\n\", sleep_time=0.001)\n",
    "two_foo   = dag.add_node(print_and_wait, \"This is should be second -- or third?!    :-)\",\"    Function A\", end=\"\\n\", sleep_time=0.1)\n",
    "four_foo  = dag.add_node(print_and_wait, \"I'll show up last.\")\n",
    "\n",
    "dag.add_edge(one_foo, two_foo)\n",
    "dag.add_edge(one_foo, three_foo)\n",
    "dag.add_edge(three_foo, four_foo)\n",
    "\n",
    "dag.execute()"
   ]
  },
  {
   "cell_type": "code",
   "execution_count": null,
   "metadata": {},
   "outputs": [],
   "source": [
    "G = DiGraph([\n",
    "    (first, second),\n",
    "    (second, third),\n",
    "    (third, fourth)\n",
    "])\n",
    "dag = webber.DAG(G)\n",
    "dag.visualize()"
   ]
  },
  {
   "cell_type": "code",
   "execution_count": null,
   "metadata": {},
   "outputs": [],
   "source": [
    "dag.visualize(vis_type='plt')"
   ]
  }
 ],
 "metadata": {
  "kernelspec": {
   "display_name": "Python 3.9.11 64-bit",
   "language": "python",
   "name": "python3"
  },
  "language_info": {
   "codemirror_mode": {
    "name": "ipython",
    "version": 3
   },
   "file_extension": ".py",
   "mimetype": "text/x-python",
   "name": "python",
   "nbconvert_exporter": "python",
   "pygments_lexer": "ipython3",
   "version": "3.12.4"
  },
  "orig_nbformat": 4,
  "vscode": {
   "interpreter": {
    "hash": "916dbcbb3f70747c44a77c7bcd40155683ae19c65e1c03b4aa3499c5328201f1"
   }
  }
 },
 "nbformat": 4,
 "nbformat_minor": 2
}
