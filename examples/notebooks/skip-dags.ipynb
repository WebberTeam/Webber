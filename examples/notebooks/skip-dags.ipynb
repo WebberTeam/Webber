{
 "cells": [
  {
   "cell_type": "code",
   "execution_count": 13,
   "metadata": {},
   "outputs": [],
   "source": [
    "import webber\n",
    "from webber import Condition"
   ]
  },
  {
   "cell_type": "code",
   "execution_count": 14,
   "metadata": {},
   "outputs": [],
   "source": [
    "dag = webber.DAG()\n",
    "a = dag.add_node(print, \"a\")\n",
    "b = dag.add_node(print, \"b\")"
   ]
  },
  {
   "cell_type": "code",
   "execution_count": 15,
   "metadata": {},
   "outputs": [
    {
     "name": "stdout",
     "output_type": "stream",
     "text": [
      "Help on method add_edge in module webber.core:\n",
      "\n",
      "add_edge(u_of_edge: Union[str, Callable], v_of_edge: Union[str, Callable], continue_on: webber.edges.Condition = <Condition.Success: 0>) -> Tuple[str, str] method of webber.core.DAG instance\n",
      "    Adds an edge between nodes in the DAG's underlying graph,\n",
      "    so long as the requested edge is unique and has not been added previously.\n",
      "\n",
      "    On success, returns Tuple of the new edge's unique identifiers.\n",
      "\n"
     ]
    }
   ],
   "source": [
    "help(dag.add_edge)"
   ]
  },
  {
   "cell_type": "code",
   "execution_count": 16,
   "metadata": {},
   "outputs": [],
   "source": [
    "dag.add_edge(a, b, continue_on=Condition.Success);"
   ]
  },
  {
   "cell_type": "code",
   "execution_count": 17,
   "metadata": {},
   "outputs": [
    {
     "name": "stdout",
     "output_type": "stream",
     "text": [
      "2024-06-04 00:29:25,095           print: a\n",
      "2024-06-04 00:29:25,206           print: b\n"
     ]
    }
   ],
   "source": [
    "dag.execute()"
   ]
  },
  {
   "cell_type": "code",
   "execution_count": 18,
   "metadata": {},
   "outputs": [
    {
     "name": "stdout",
     "output_type": "stream",
     "text": [
      "Help on method skip_node in module webber.core:\n",
      "\n",
      "skip_node(identifier: Union[str, Callable], skip: bool = True, as_failure=False) method of webber.core.DAG instance\n",
      "    Given a node identifier, set DAG to skip node execution as a success (stdout print) or a failure (exception error).\n",
      "    Allows conditional control and testing over DAG's order of operations.\n",
      "\n"
     ]
    }
   ],
   "source": [
    "help(dag.skip_node)"
   ]
  },
  {
   "cell_type": "code",
   "execution_count": 19,
   "metadata": {},
   "outputs": [],
   "source": [
    "dag.skip_node(a)"
   ]
  },
  {
   "cell_type": "code",
   "execution_count": 20,
   "metadata": {},
   "outputs": [
    {
     "name": "stdout",
     "output_type": "stream",
     "text": [
      "2024-06-04 00:29:25,268           print: Event print__375f099a-ee65-4b06-99e5-5555159b536e skipped...\n",
      "2024-06-04 00:29:25,339           print: b\n"
     ]
    }
   ],
   "source": [
    "dag.execute()"
   ]
  },
  {
   "cell_type": "code",
   "execution_count": 21,
   "metadata": {},
   "outputs": [],
   "source": [
    "dag.skip_node(a, as_failure=True)"
   ]
  },
  {
   "cell_type": "code",
   "execution_count": 22,
   "metadata": {},
   "outputs": [
    {
     "name": "stdout",
     "output_type": "stream",
     "text": [
      "2024-06-04 00:29:25,441            root: Event print__375f099a-ee65-4b06-99e5-5555159b536e exited with exception...\n"
     ]
    }
   ],
   "source": [
    "dag.execute()"
   ]
  },
  {
   "cell_type": "code",
   "execution_count": null,
   "metadata": {},
   "outputs": [],
   "source": [
    "dag.update_edges((a, b), continue_on=Condition.Failure)"
   ]
  },
  {
   "cell_type": "code",
   "execution_count": 24,
   "metadata": {},
   "outputs": [
    {
     "name": "stdout",
     "output_type": "stream",
     "text": [
      "2024-06-04 00:29:25,457            root: Event print__375f099a-ee65-4b06-99e5-5555159b536e exited with exception...\n",
      "2024-06-04 00:29:25,468           print: b\n"
     ]
    }
   ],
   "source": [
    "dag.execute()"
   ]
  }
 ],
 "metadata": {
  "kernelspec": {
   "display_name": "Python 3.9.11 64-bit",
   "language": "python",
   "name": "python3"
  },
  "language_info": {
   "codemirror_mode": {
    "name": "ipython",
    "version": 3
   },
   "file_extension": ".py",
   "mimetype": "text/x-python",
   "name": "python",
   "nbconvert_exporter": "python",
   "pygments_lexer": "ipython3",
   "version": "3.12.1"
  },
  "orig_nbformat": 4,
  "vscode": {
   "interpreter": {
    "hash": "916dbcbb3f70747c44a77c7bcd40155683ae19c65e1c03b4aa3499c5328201f1"
   }
  }
 },
 "nbformat": 4,
 "nbformat_minor": 2
}
