{
 "cells": [
  {
   "cell_type": "code",
   "execution_count": 1,
   "metadata": {},
   "outputs": [],
   "source": [
    "import webber\n",
    "from webber import Condition"
   ]
  },
  {
   "cell_type": "code",
   "execution_count": 2,
   "metadata": {},
   "outputs": [],
   "source": [
    "dag = webber.DAG()\n",
    "a = dag.add_node(print, \"a\")\n",
    "b = dag.add_node(print, \"b\")"
   ]
  },
  {
   "cell_type": "code",
   "execution_count": 3,
   "metadata": {},
   "outputs": [
    {
     "name": "stdout",
     "output_type": "stream",
     "text": [
      "Help on method add_edge in module webber.core:\n",
      "\n",
      "add_edge(u_of_edge: Union[str, Callable], v_of_edge: Union[str, Callable], continue_on: webber.edges.Condition = <Condition.Success: 0>) -> Tuple[str, str] method of webber.core.DAG instance\n",
      "    Adds an edge between nodes in the DAG's underlying graph,\n",
      "    so long as the requested edge is unique and has not been added previously.\n",
      "\n",
      "    On success, returns Tuple of the new edge's unique identifiers.\n",
      "\n"
     ]
    }
   ],
   "source": [
    "help(dag.add_edge)"
   ]
  },
  {
   "cell_type": "code",
   "execution_count": 4,
   "metadata": {},
   "outputs": [],
   "source": [
    "dag.add_edge(a, b, continue_on=Condition.Success);"
   ]
  },
  {
   "cell_type": "code",
   "execution_count": 5,
   "metadata": {},
   "outputs": [
    {
     "name": "stdout",
     "output_type": "stream",
     "text": [
      "2025-01-14 00:50:48,462           print: a\n",
      "2025-01-14 00:50:48,570           print: b\n"
     ]
    }
   ],
   "source": [
    "dag.execute()"
   ]
  },
  {
   "cell_type": "code",
   "execution_count": 6,
   "metadata": {},
   "outputs": [
    {
     "name": "stdout",
     "output_type": "stream",
     "text": [
      "Help on method skip_node in module webber.core:\n",
      "\n",
      "skip_node(identifier: Union[str, Callable], skip: bool = True, as_failure=False) method of webber.core.DAG instance\n",
      "    Given a node identifier, set DAG to skip node execution as a success (stdout print) or a failure (exception error).\n",
      "    Allows conditional control and testing over DAG's order of operations.\n",
      "\n"
     ]
    }
   ],
   "source": [
    "help(dag.skip_node)"
   ]
  },
  {
   "cell_type": "code",
   "execution_count": 7,
   "metadata": {},
   "outputs": [],
   "source": [
    "dag.skip_node(a)"
   ]
  },
  {
   "cell_type": "code",
   "execution_count": 8,
   "metadata": {},
   "outputs": [
    {
     "name": "stdout",
     "output_type": "stream",
     "text": [
      "2025-01-14 00:50:50,717           print: Event print__ada09c0e-aab5-47ab-853a-b54481bf46ea skipped...\n",
      "2025-01-14 00:50:50,788           print: b\n"
     ]
    }
   ],
   "source": [
    "dag.execute()"
   ]
  },
  {
   "cell_type": "code",
   "execution_count": 9,
   "metadata": {},
   "outputs": [],
   "source": [
    "dag.skip_node(a, as_failure=True)"
   ]
  },
  {
   "cell_type": "code",
   "execution_count": 10,
   "metadata": {},
   "outputs": [
    {
     "name": "stdout",
     "output_type": "stream",
     "text": [
      "2025-01-14 00:50:52,361            root: Event print__ada09c0e-aab5-47ab-853a-b54481bf46ea exited with exception...\n"
     ]
    }
   ],
   "source": [
    "dag.execute()"
   ]
  },
  {
   "cell_type": "code",
   "execution_count": 11,
   "metadata": {},
   "outputs": [],
   "source": [
    "dag.update_edges((a, b), continue_on=Condition.Failure)"
   ]
  },
  {
   "cell_type": "code",
   "execution_count": 12,
   "metadata": {},
   "outputs": [
    {
     "name": "stdout",
     "output_type": "stream",
     "text": [
      "2025-01-14 00:50:55,635            root: Event print__ada09c0e-aab5-47ab-853a-b54481bf46ea exited with exception...\n",
      "2025-01-14 00:50:55,642           print: b\n"
     ]
    }
   ],
   "source": [
    "dag.execute()"
   ]
  },
  {
   "cell_type": "code",
   "execution_count": null,
   "metadata": {},
   "outputs": [],
   "source": []
  }
 ],
 "metadata": {
  "kernelspec": {
   "display_name": "win-venv",
   "language": "python",
   "name": "python3"
  },
  "language_info": {
   "codemirror_mode": {
    "name": "ipython",
    "version": 3
   },
   "file_extension": ".py",
   "mimetype": "text/x-python",
   "name": "python",
   "nbconvert_exporter": "python",
   "pygments_lexer": "ipython3",
   "version": "3.12.4"
  },
  "orig_nbformat": 4
 },
 "nbformat": 4,
 "nbformat_minor": 2
}
