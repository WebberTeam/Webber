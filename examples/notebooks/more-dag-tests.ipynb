{
 "cells": [
  {
   "cell_type": "code",
   "execution_count": 10,
   "metadata": {},
   "outputs": [],
   "source": [
    "import webber\n",
    "from webber.xcoms import Promise"
   ]
  },
  {
   "cell_type": "markdown",
   "metadata": {},
   "source": [
    "It's useful to recall that Webber DAGs can represent any Python callable, allowing orchestrators a great deal of flexibility in constructing nodes, whether using function callables, lambda functions, or class initalizations."
   ]
  },
  {
   "cell_type": "code",
   "execution_count": 11,
   "metadata": {},
   "outputs": [
    {
     "name": "stdout",
     "output_type": "stream",
     "text": [
      "2024-06-23 12:01:17,090           print: Hello World!\n"
     ]
    }
   ],
   "source": [
    "dag = webber.DAG()\n",
    "n1 = dag.add_node(str, \"Hello World!\")\n",
    "n2 = dag.add_node(print, Promise(n1))\n",
    "_ = dag.add_edge(n1, n2)\n",
    "dag.execute()"
   ]
  },
  {
   "cell_type": "markdown",
   "metadata": {},
   "source": [
    "Another example leveraging Promises as inputs to Lambda functions..."
   ]
  },
  {
   "cell_type": "code",
   "execution_count": 12,
   "metadata": {},
   "outputs": [
    {
     "name": "stdout",
     "output_type": "stream",
     "text": [
      "2024-06-23 12:01:17,816        <lambda>: Hello World!\n"
     ]
    }
   ],
   "source": [
    "dag = webber.DAG()\n",
    "n1 = dag.add_node(str, \"Hello World!\")\n",
    "n2 = dag.add_node(lambda n: print(n), Promise(n1))\n",
    "_ = dag.add_edge(n1, n2)\n",
    "dag.execute()"
   ]
  },
  {
   "cell_type": "markdown",
   "metadata": {},
   "source": [
    "Nice, perhaps we can make this a bit more complicated..."
   ]
  },
  {
   "cell_type": "code",
   "execution_count": 13,
   "metadata": {},
   "outputs": [
    {
     "name": "stdout",
     "output_type": "stream",
     "text": [
      "2024-06-23 12:01:18,544        <lambda>: 96 mod 2 = 0\n",
      "Execution time: 0.07717680931091309\n"
     ]
    }
   ],
   "source": [
    "from random import randint\n",
    "from time import time\n",
    "\n",
    "dag = webber.DAG()\n",
    "n1 = dag.add_node(randint, 1, 99)\n",
    "n2 = dag.add_node(randint, 1, 10)\n",
    "n3 = dag.add_node(lambda i, j: print(f\"{i} mod {j} = {i % j}\"), Promise(n1), Promise(n2))\n",
    "dag.add_edge(n1, n3)\n",
    "dag.add_edge(n2, n3)\n",
    "\n",
    "t = time()\n",
    "dag.execute()\n",
    "print(f\"Execution time:\", time() - t)"
   ]
  },
  {
   "cell_type": "markdown",
   "metadata": {},
   "source": [
    "Of course, Webber's performance here is great in comparison to Dagster and Airflow, but sequential execution will still be magnitudes faster for the example above, if not practically zero."
   ]
  },
  {
   "cell_type": "code",
   "execution_count": 14,
   "metadata": {},
   "outputs": [
    {
     "name": "stdout",
     "output_type": "stream",
     "text": [
      "8 mod 9 = 8\n",
      "Execution time: 0.0\n"
     ]
    }
   ],
   "source": [
    "t = time()\n",
    "i, j = randint(1, 99), randint(1, 10)\n",
    "print(f\"{i} mod {j} = {i % j}\")\n",
    "print(f\"Execution time:\", time() - t)"
   ]
  },
  {
   "cell_type": "markdown",
   "metadata": {},
   "source": [
    "Given this new abstraction, we should be using Webber to handle longer running processes in parallel.\n",
    "Regardless, experimentation like this is cool - and starting here is *critical* to abstracting the way we think about processes and their dependencies."
   ]
  }
 ],
 "metadata": {
  "kernelspec": {
   "display_name": "Python 3.9.11 64-bit",
   "language": "python",
   "name": "python3"
  },
  "language_info": {
   "codemirror_mode": {
    "name": "ipython",
    "version": 3
   },
   "file_extension": ".py",
   "mimetype": "text/x-python",
   "name": "python",
   "nbconvert_exporter": "python",
   "pygments_lexer": "ipython3",
   "version": "3.12.4"
  },
  "orig_nbformat": 4,
  "vscode": {
   "interpreter": {
    "hash": "916dbcbb3f70747c44a77c7bcd40155683ae19c65e1c03b4aa3499c5328201f1"
   }
  }
 },
 "nbformat": 4,
 "nbformat_minor": 2
}
